{
 "cells": [
  {
   "cell_type": "markdown",
   "metadata": {},
   "source": [
    "## Declaring Tensors"
   ]
  },
  {
   "cell_type": "code",
   "execution_count": 1,
   "metadata": {},
   "outputs": [
    {
     "name": "stderr",
     "output_type": "stream",
     "text": [
      "/Library/Frameworks/Python.framework/Versions/3.6/lib/python3.6/importlib/_bootstrap.py:219: RuntimeWarning: compiletime version 3.5 of module 'tensorflow.python.framework.fast_tensor_util' does not match runtime version 3.6\n",
      "  return f(*args, **kwds)\n"
     ]
    }
   ],
   "source": [
    "# 1.Fixd tensors\n",
    "\n",
    "import tensorflow as tf\n",
    "# A zero filled tensor with dim [10,20]\n",
    "zero_tsr = tf.zeros([10,20])\n",
    "# A one filled tensor with dim [10,20]\n",
    "one_tsr = tf.ones([10,20])\n",
    "# A constant(42 here) filled tensor with dim [10,20,30]\n",
    "filled_tsr = tf.fill([10,20,30], 42)\n",
    "# A tensor from an existing constant\n",
    "constant_tsr = tf.constant([1,2,3])\n",
    "\n",
    "# 2.Tensors of similar shape\n",
    "zeros_similar = tf.zeros_like(constant_tsr)\n",
    "ones_similar = tf.ones_like(constant_tsr)\n",
    "# Note: constant_tsr should be initialized first\n",
    "\n",
    "# 3.Sequence tensors\n",
    "linear_tsr = tf.linspace(start = 0., stop = 1., num = 3)\n",
    "# [0.0, 0.5, 1.0]\n",
    "integer_seq_tsr = tf.range(start = 6, limit = 15, delta = 3)\n",
    "# [6, 9, 12]\n",
    "\n",
    "# 4.Random tensors\n",
    "# Random numbers from a uniform distribution with dim [2,4]\n",
    "randunif_tsr = tf.random_uniform([2,4], minval = 0, maxval = 1)\n",
    "# minval but not maxval (minval<=x<maxval)\n",
    "# Random numbers from a normal distribution with dim [2,4]\n",
    "randnorm_tsr = tf.random_normal([2,4], mean=0., stddev = 1.)\n",
    "# Random numbers from a normal distribution with dim [2,4] and bounds(2 standard deviations)\n",
    "runcnorm_tsr = tf.truncated_normal([2,4], mean = 0., stddev = 1.)\n",
    "# Shuffle an array\n",
    "shuffled = tf.random_shuffle(randnorm_tsr)\n",
    "# cropped = tf.random_crop()\n",
    "\n",
    "# After create tensors, the corresponding variables may\n",
    "# also be created by wrapping the tensor in th Variable()\n",
    "# function\n",
    "my_var = tf.Variable(tf.zeros([1,2]))"
   ]
  },
  {
   "cell_type": "markdown",
   "metadata": {},
   "source": [
    "## Using Placeholders and Variables"
   ]
  },
  {
   "cell_type": "code",
   "execution_count": 4,
   "metadata": {},
   "outputs": [
    {
     "name": "stdout",
     "output_type": "stream",
     "text": [
      "[ 1.  2.  3.  5.  6.]\n",
      "[ 1.  2.  3.  5.  6.]\n",
      "[ 1.  2.  3.  5.  6.]\n",
      "[ 1.  2.  3.  5.  6.]\n",
      "[ 1.  2.  3.  5.  6.]\n"
     ]
    }
   ],
   "source": [
    "sess = tf.Session()\n",
    "import numpy as np\n",
    "x_vals = np.array([1,2,3,5,6])\n",
    "x_data = tf.placeholder(tf.float32)\n",
    "const = tf.constant(4.)\n",
    "product = tf.multiply(const, x_data)\n",
    "for x_val in x_vals:\n",
    "    print(sess.run(x_data, feed_dict={x_data:x_vals}))"
   ]
  },
  {
   "cell_type": "code",
   "execution_count": null,
   "metadata": {},
   "outputs": [],
   "source": []
  }
 ],
 "metadata": {
  "kernelspec": {
   "display_name": "Python 3",
   "language": "python",
   "name": "python3"
  },
  "language_info": {
   "codemirror_mode": {
    "name": "ipython",
    "version": 3
   },
   "file_extension": ".py",
   "mimetype": "text/x-python",
   "name": "python",
   "nbconvert_exporter": "python",
   "pygments_lexer": "ipython3",
   "version": "3.6.4"
  }
 },
 "nbformat": 4,
 "nbformat_minor": 2
}
