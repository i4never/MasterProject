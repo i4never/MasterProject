{
 "cells": [
  {
   "cell_type": "code",
   "execution_count": 1,
   "metadata": {},
   "outputs": [
    {
     "data": {
      "image/png": "[encoded data removed]",
      "text/plain": [
       "<matplotlib.figure.Figure at 0x104757748>"
      ]
     },
     "metadata": {},
     "output_type": "display_data"
    }
   ],
   "source": [
    "import numpy as np\n",
    "import pandas as pd\n",
    "import tensorflow as tf\n",
    "import sys\n",
    "import yaml\n",
    "import matplotlib.pyplot as plt\n",
    "\n",
    "sys.path.append(\"./\")\n",
    "from Finance.Env import Loader\n",
    "from Finance.ReplayBuffer import ReplayBuffer\n",
    "\n",
    "# Load data\n",
    "loader = Loader(\"data/\")\n",
    "data, info = loader.load(\"000300\")\n",
    "# data_DDRLFFSR is start from 2014.1.1, the 407760th point in data\n",
    "data_DDRLFFSR = data[407760:407760+20000]\n",
    "\n",
    "# Use first 15000 point to train AC-model\n",
    "train = data_DDRLFFSR[:15000].close.values\n",
    "test = data_DDRLFFSR[15000:].close.values\n",
    "\n",
    "plt.plot(np.linspace(0,14999,15000),train,color=\"blue\")\n",
    "plt.plot(np.linspace(15000,19999,5000),test,color=\"red\")\n",
    "plt.show()\n",
    "\n"
   ]
  },
  {
   "cell_type": "code",
   "execution_count": 2,
   "metadata": {
    "scrolled": true
   },
   "outputs": [
    {
     "name": "stderr",
     "output_type": "stream",
     "text": [
      "Using TensorFlow backend.\n"
     ]
    },
    {
     "name": "stdout",
     "output_type": "stream",
     "text": [
      "Build ActorNetwork\n",
      "Build ActorNetwork\n",
      "Build CriticNetwork\n",
      "Build CriticNetwork\n",
      "ActorNetwork:\n",
      "_________________________________________________________________\n",
      "Layer (type)                 Output Shape              Param #   \n",
      "=================================================================\n",
      "State_Input (InputLayer)     (None, 50)                0         \n",
      "_________________________________________________________________\n",
      "Hidden_Layer0 (Dense)        (None, 128)               6528      \n",
      "_________________________________________________________________\n",
      "Hidden_Layer1 (Dense)        (None, 128)               16512     \n",
      "_________________________________________________________________\n",
      "Action_Output (Dense)        (None, 1)                 129       \n",
      "=================================================================\n",
      "Total params: 23,169\n",
      "Trainable params: 23,169\n",
      "Non-trainable params: 0\n",
      "_________________________________________________________________\n",
      "CriticNetwork:\n",
      "__________________________________________________________________________________________________\n",
      "Layer (type)                    Output Shape         Param #     Connected to                     \n",
      "==================================================================================================\n",
      "State_Input (InputLayer)        (None, 50)           0                                            \n",
      "__________________________________________________________________________________________________\n",
      "State_Hidden_Layer (Dense)      (None, 128)          6528        State_Input[0][0]                \n",
      "__________________________________________________________________________________________________\n",
      "Action_Input (InputLayer)       (None, 1)            0                                            \n",
      "__________________________________________________________________________________________________\n",
      "Hidden_Layer0 (Dense)           (None, 128)          16512       State_Hidden_Layer[0][0]         \n",
      "__________________________________________________________________________________________________\n",
      "Action_Hidden_Layer (Dense)     (None, 128)          256         Action_Input[0][0]               \n",
      "__________________________________________________________________________________________________\n",
      "Hidden_Layer1 (Add)             (None, 128)          0           Hidden_Layer0[0][0]              \n",
      "                                                                 Action_Hidden_Layer[0][0]        \n",
      "__________________________________________________________________________________________________\n",
      "Hidden_Layer2 (Dense)           (None, 128)          16512       Hidden_Layer1[0][0]              \n",
      "__________________________________________________________________________________________________\n",
      "Q_Value (Dense)                 (None, 1)            129         Hidden_Layer2[0][0]              \n",
      "==================================================================================================\n",
      "Total params: 39,937\n",
      "Trainable params: 39,937\n",
      "Non-trainable params: 0\n",
      "__________________________________________________________________________________________________\n"
     ]
    }
   ],
   "source": [
    "# Build Actor-Critic Model\n",
    "from Finance.PolicyNetwork import ActorNetwork, CriticNetwork\n",
    "\n",
    "# Load Network Config\n",
    "model_config = yaml.load(open(\"config/model.yaml\"))\n",
    "an_config = yaml.load(open(\"config/an_config.yaml\"))\n",
    "an_config.update(model_config)\n",
    "\n",
    "cn_config = yaml.load(open(\"config/cn_config.yaml\"))\n",
    "cn_config.update(model_config)\n",
    "\n",
    "# Optimize GPU\n",
    "config = tf.ConfigProto()\n",
    "config.gpu_options.allow_growth = True\n",
    "sess = tf.Session(config=config)\n",
    "\n",
    "# Build Network\n",
    "actor = ActorNetwork(sess, an_config)\n",
    "critic = CriticNetwork(sess, cn_config)\n",
    "\n",
    "actor.describe(\"images/actor_network.png\")\n",
    "critic.describe(\"images/critic_network.png\")"
   ]
  },
  {
   "cell_type": "code",
   "execution_count": null,
   "metadata": {},
   "outputs": [],
   "source": [
    "# Training\n",
    "EPISODE = 2000\n",
    "BUFFER_SIZE = 4096\n",
    "BATCH_SIZE = 128\n",
    "TRADING_RANGE = 20000 # minutes\n",
    "\n",
    "# epsilon-greedy\n",
    "EXPLORE = 100000.\n",
    "epsilon = 1.\n",
    "\n",
    "state_size = model_config[\"state_size\"]\n",
    "action_size = model_config[\"action_size\"]\n",
    "\n",
    "env = Env(data[407760:].close.values)\n",
    "\n",
    "for i in range(EPISODE):\n",
    "    print(\"Eposide: \" + str(i))\n",
    "    \n",
    "    total_reward = 0\n",
    "    state = env.reset()\n",
    "    \n",
    "    for j in range(TRADING_RANGE):\n",
    "        epsilon -= 1./EXPLORE\n",
    "        action = np.zeros([1, action_size])\n",
    "        \n",
    "        action = actor.model.predict([state])"
   ]
  }
 ],
 "metadata": {
  "kernelspec": {
   "display_name": "Python 3",
   "language": "python",
   "name": "python3"
  },
  "language_info": {
   "codemirror_mode": {
    "name": "ipython",
    "version": 3
   },
   "file_extension": ".py",
   "mimetype": "text/x-python",
   "name": "python",
   "nbconvert_exporter": "python",
   "pygments_lexer": "ipython3",
   "version": "3.5.0"
  }
 },
 "nbformat": 4,
 "nbformat_minor": 2
}
