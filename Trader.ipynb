{
 "cells": [
  {
   "cell_type": "code",
   "execution_count": null,
   "metadata": {},
   "outputs": [],
   "source": [
    "import numpy as np\n",
    "import pandas as pd\n",
    "import tensorflow as tf\n",
    "import sys\n",
    "import yaml\n",
    "import matplotlib.pyplot as plt\n",
    "\n",
    "sys.path.append(\"./\")\n",
    "from Finance.Env import Loader, Env\n",
    "from Finance.ReplayBuffer import ReplayBuffer\n",
    "\n",
    "# Load data\n",
    "loader = Loader(\"data/\")\n",
    "data, info = loader.load(\"000300\")\n",
    "# data_DDRLFFSR is start from 2014.1.1, the 407760th point in data\n",
    "data_DDRLFFSR = data[407760:407760+20000]\n",
    "\n",
    "# Use first 15000 point to train AC-model\n",
    "train = data_DDRLFFSR[:15000].close.values\n",
    "test = data_DDRLFFSR[15000:].close.values\n",
    "\n",
    "plt.plot(np.linspace(0,14999,15000),train,color=\"blue\")\n",
    "plt.plot(np.linspace(15000,19999,5000),test,color=\"red\")\n",
    "plt.show()\n",
    "\n"
   ]
  },
  {
   "cell_type": "code",
   "execution_count": null,
   "metadata": {
    "scrolled": true
   },
   "outputs": [],
   "source": [
    "# Build Actor-Critic Model\n",
    "from Finance.PolicyNetwork import ActorNetwork, CriticNetwork\n",
    "\n",
    "# Load Network Config\n",
    "model_config = yaml.load(open(\"config/model.yaml\"))\n",
    "an_config = yaml.load(open(\"config/an_config.yaml\"))\n",
    "an_config.update(model_config)\n",
    "\n",
    "cn_config = yaml.load(open(\"config/cn_config.yaml\"))\n",
    "cn_config.update(model_config)\n",
    "\n",
    "# Optimize GPU\n",
    "config = tf.ConfigProto()\n",
    "config.gpu_options.allow_growth = True\n",
    "sess = tf.Session(config=config)\n",
    "\n",
    "# Build Network\n",
    "actor = ActorNetwork(sess, an_config)\n",
    "critic = CriticNetwork(sess, cn_config)\n",
    "\n",
    "actor.describe(\"images/actor_network.png\")\n",
    "critic.describe(\"images/critic_network.png\")"
   ]
  },
  {
   "cell_type": "code",
   "execution_count": null,
   "metadata": {},
   "outputs": [],
   "source": [
    "env = Env(data[407760:].close.values)\n",
    "env.obs[0]"
   ]
  },
  {
   "cell_type": "code",
   "execution_count": null,
   "metadata": {},
   "outputs": [],
   "source": [
    "# Training\n",
    "EPISODE = 2000\n",
    "BUFFER_SIZE = 4096\n",
    "BATCH_SIZE = 128\n",
    "TRADING_RANGE = 20000 # minutes\n",
    "\n",
    "# epsilon-greedy\n",
    "EXPLORE = 100000.\n",
    "epsilon = 1.\n",
    "\n",
    "state_size = model_config[\"state_size\"]\n",
    "action_size = model_config[\"action_size\"]\n",
    "\n",
    "env = Env(data[407760:].close.values)\n",
    "\n",
    "for i in range(EPISODE):\n",
    "    print(\"Eposide: \" + str(i))\n",
    "    \n",
    "    total_reward = 0\n",
    "    state = env.reset()\n",
    "    \n",
    "    for j in range(TRADING_RANGE):\n",
    "        epsilon -= 1./EXPLORE\n",
    "        action = np.zeros([1, action_size])\n",
    "        \n",
    "        action = actor.model.predict([state])"
   ]
  }
 ],
 "metadata": {
  "kernelspec": {
   "display_name": "Python 3",
   "language": "python",
   "name": "python3"
  },
  "language_info": {
   "codemirror_mode": {
    "name": "ipython",
    "version": 3
   },
   "file_extension": ".py",
   "mimetype": "text/x-python",
   "name": "python",
   "nbconvert_exporter": "python",
   "pygments_lexer": "ipython3",
   "version": "3.5.0"
  }
 },
 "nbformat": 4,
 "nbformat_minor": 2
}
