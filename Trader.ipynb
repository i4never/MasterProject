{
 "cells": [
  {
   "cell_type": "code",
   "execution_count": null,
   "metadata": {},
   "outputs": [],
   "source": [
    "import numpy as np\n",
    "import pandas as pd\n",
    "import tensorflow as tf\n",
    "import sys\n",
    "import yaml\n",
    "\n",
    "sys.path.append(\"./\")\n",
    "from Finance.Data import Loader\n",
    "\n",
    "# Load data\n",
    "loader = Loader(\"data/\")\n",
    "data, info = loader.load(\"000300\")\n",
    "print(info)\n",
    "\n",
    "# Load Network Config\n",
    "an_config = yaml.load(open(\"an_config.yaml\"))\n",
    "print(an_config)\n",
    "cn_config = yaml.load(open(\"cn_config.yaml\"))\n",
    "print(cn_config)"
   ]
  },
  {
   "cell_type": "code",
   "execution_count": null,
   "metadata": {},
   "outputs": [],
   "source": [
    "# Build Actor-Critic Model\n",
    "from Finance.PolicyNetwork import ActorNetwork, CriticNetwork\n",
    "\n",
    "# Optimize GPU\n",
    "config = tf.ConfigProto()\n",
    "config.gpu_options.allow_growth = True\n",
    "sess = tf.Session(config=config)\n",
    "\n",
    "# Build Network\n",
    "actor = ActorNetwork(sess, an_config)\n",
    "critic = CriticNetwork(sess, cn_config)\n",
    "\n",
    "actor.describe()\n",
    "critic.describe()"
   ]
  },
  {
   "cell_type": "code",
   "execution_count": null,
   "metadata": {},
   "outputs": [],
   "source": []
  }
 ],
 "metadata": {
  "kernelspec": {
   "display_name": "Python 3",
   "language": "python",
   "name": "python3"
  },
  "language_info": {
   "codemirror_mode": {
    "name": "ipython",
    "version": 3
   },
   "file_extension": ".py",
   "mimetype": "text/x-python",
   "name": "python",
   "nbconvert_exporter": "python",
   "pygments_lexer": "ipython3",
   "version": "3.5.0"
  }
 },
 "nbformat": 4,
 "nbformat_minor": 2
}
