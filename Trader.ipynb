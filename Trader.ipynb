{
 "cells": [
  {
   "cell_type": "code",
   "execution_count": null,
   "metadata": {},
   "outputs": [],
   "source": [
    "import numpy as np\n",
    "import pandas as pd\n",
    "import tensorflow as tf\n",
    "import sys\n",
    "import yaml\n",
    "import matplotlib.pyplot as plt\n",
    "\n",
    "sys.path.append(\"./\")\n",
    "from Finance.Data import Loader\n",
    "from Finance.ReplayBuffer import ReplayBuffer\n",
    "\n",
    "# Load data\n",
    "loader = Loader(\"data/\")\n",
    "data, info = loader.load(\"000300\")\n",
    "data_DDRLFFSR = data[407760:407760+20000]\n",
    "# print(info)\n",
    "train = data_DDRLFFSR[:20000].copy()\n",
    "test = data_DDRLFFSR[20000:].copy()\n",
    "# print(type(data_DDRLFFSR.close))\n",
    "# data_DDRLFFSR.close.plot()\n",
    "# plt.plot(data_DDRLFFSR.close[:20000], color=\"red\")\n",
    "# plt.plot(data_DDRLFFSR.close[20000:],color=\"black\")\n",
    "# plt.show()\n",
    "\n",
    "# Load Network Config\n",
    "model_config = yaml.load(open(\"config/model.yaml\"))\n",
    "an_config = yaml.load(open(\"config/an_config.yaml\"))\n",
    "an_config.update(model_config)\n",
    "# print(an_config)\n",
    "cn_config = yaml.load(open(\"config/cn_config.yaml\"))\n",
    "cn_config.update(model_config)\n",
    "# print(cn_config)"
   ]
  },
  {
   "cell_type": "code",
   "execution_count": null,
   "metadata": {},
   "outputs": [],
   "source": [
    "# Build Actor-Critic Model\n",
    "from Finance.PolicyNetwork import ActorNetwork, CriticNetwork\n",
    "\n",
    "# Optimize GPU\n",
    "config = tf.ConfigProto()\n",
    "config.gpu_options.allow_growth = True\n",
    "sess = tf.Session(config=config)\n",
    "\n",
    "# Build Network\n",
    "actor = ActorNetwork(sess, an_config)\n",
    "critic = CriticNetwork(sess, cn_config)\n",
    "\n",
    "actor.describe(\"images/actor_network.png\")\n",
    "critic.describe(\"images/critic_network.png\")"
   ]
  },
  {
   "cell_type": "code",
   "execution_count": null,
   "metadata": {},
   "outputs": [],
   "source": [
    "#Trainning\n",
    "BUFFER_SIZE = 100000\n",
    "BATCH_SIZE = 32\n",
    "GAMMA = 0.99\n",
    "\n",
    "EXPLORE = 100000.\n",
    "episode = 2000\n",
    "# max_steps = Days\n",
    "# data.close[510480-150000:510480]\n",
    "# 510480-407760\n",
    "train"
   ]
  },
  {
   "cell_type": "code",
   "execution_count": null,
   "metadata": {},
   "outputs": [],
   "source": []
  }
 ],
 "metadata": {
  "kernelspec": {
   "display_name": "Python 3",
   "language": "python",
   "name": "python3"
  },
  "language_info": {
   "codemirror_mode": {
    "name": "ipython",
    "version": 3
   },
   "file_extension": ".py",
   "mimetype": "text/x-python",
   "name": "python",
   "nbconvert_exporter": "python",
   "pygments_lexer": "ipython3",
   "version": "3.5.0"
  }
 },
 "nbformat": 4,
 "nbformat_minor": 2
}
