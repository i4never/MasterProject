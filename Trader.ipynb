{
 "cells": [
  {
   "cell_type": "code",
   "execution_count": 2,
   "metadata": {},
   "outputs": [
    {
     "name": "stdout",
     "output_type": "stream",
     "text": [
      "{'level': 'minute', 'info': '沪深300指数', 'end': '2016-12-30', 'file': '000300.pkl', 'start': '2007-01-04', 'source': '米筐量化平台'}\n",
      "{'batch_size': 100, 'h0': 128, 'h1': 128, 'hidden_layer': 2, 'state_size': 10, 'tau': 0.01, 'learning_rate': 0.0001, 'action_size': 3}\n",
      "{'batch_size': 100, 'h0': 128, 'h1': 128, 'hidden_layer': 3, 'state_size': 10, 'h2': 128, 'tau': 0.01, 'learning_rate': 0.0001, 'action_size': 3}\n"
     ]
    }
   ],
   "source": [
    "import numpy as np\n",
    "import pandas as pd\n",
    "import tensorflow as tf\n",
    "import sys\n",
    "import yaml\n",
    "\n",
    "sys.path.append(\"./\")\n",
    "from Finance.Data import Loader\n",
    "\n",
    "# Load data\n",
    "loader = Loader(\"data/\")\n",
    "data, info = loader.load(\"000300\")\n",
    "print(info)\n",
    "\n",
    "# Load Network Config\n",
    "an_config = yaml.load(open(\"an_config.yaml\"))\n",
    "print(an_config)\n",
    "cn_config = yaml.load(open(\"cn_config.yaml\"))\n",
    "print(cn_config)"
   ]
  },
  {
   "cell_type": "code",
   "execution_count": 3,
   "metadata": {},
   "outputs": [
    {
     "name": "stderr",
     "output_type": "stream",
     "text": [
      "Using TensorFlow backend.\n"
     ]
    },
    {
     "name": "stdout",
     "output_type": "stream",
     "text": [
      "Build ActorNetwork\n"
     ]
    },
    {
     "name": "stderr",
     "output_type": "stream",
     "text": [
      "/Users/FC/Documents/MasterProject/trader/Finance/PolicyNetwork.py:61: UserWarning: Update your `Model` call to the Keras 2 API: `Model(outputs=Tensor(\"Ac..., inputs=Tensor(\"St...)`\n",
      "  model = Model(input=State, output=Action)\n"
     ]
    },
    {
     "name": "stdout",
     "output_type": "stream",
     "text": [
      "Build ActorNetwork\n",
      "Build CriticNetwork\n",
      "Build CriticNetwork\n"
     ]
    },
    {
     "name": "stderr",
     "output_type": "stream",
     "text": [
      "/Users/FC/Documents/MasterProject/trader/Finance/PolicyNetwork.py:110: UserWarning: The `merge` function is deprecated and will be removed after 08/2017. Use instead layers from `keras.layers.merge`, e.g. `add`, `concatenate`, etc.\n",
      "  h2 = merge([h1, ha1], mode='sum', name=\"Hidden_Layer1\")\n",
      "/Library/Frameworks/Python.framework/Versions/3.5/lib/python3.5/site-packages/keras/legacy/layers.py:460: UserWarning: The `Merge` layer is deprecated and will be removed after 08/2017. Use instead layers from `keras.layers.merge`, e.g. `add`, `concatenate`, etc.\n",
      "  name=name)\n",
      "/Users/FC/Documents/MasterProject/trader/Finance/PolicyNetwork.py:114: UserWarning: Update your `Model` call to the Keras 2 API: `Model(outputs=Tensor(\"Q_..., inputs=[<tf.Tenso...)`\n",
      "  model = Model(input=[State, Action], output=Q)\n"
     ]
    },
    {
     "name": "stdout",
     "output_type": "stream",
     "text": [
      "ActorNetwork:\n",
      "_________________________________________________________________\n",
      "Layer (type)                 Output Shape              Param #   \n",
      "=================================================================\n",
      "State_Input (InputLayer)     (None, 10)                0         \n",
      "_________________________________________________________________\n",
      "Hidden_Layer0 (Dense)        (None, 128)               1408      \n",
      "_________________________________________________________________\n",
      "Hidden_Layer1 (Dense)        (None, 128)               16512     \n",
      "_________________________________________________________________\n",
      "Action_Output (Dense)        (None, 3)                 387       \n",
      "=================================================================\n",
      "Total params: 18,307\n",
      "Trainable params: 18,307\n",
      "Non-trainable params: 0\n",
      "_________________________________________________________________\n",
      "CriticNetwork:\n",
      "____________________________________________________________________________________________________\n",
      "Layer (type)                     Output Shape          Param #     Connected to                     \n",
      "====================================================================================================\n",
      "State_Input (InputLayer)         (None, 10)            0                                            \n",
      "____________________________________________________________________________________________________\n",
      "State_Hidden_Layer (Dense)       (None, 128)           1408                                         \n",
      "____________________________________________________________________________________________________\n",
      "Action_Input (InputLayer)        (None, 3)             0                                            \n",
      "____________________________________________________________________________________________________\n",
      "Hidden_Layer0 (Dense)            (None, 128)           16512                                        \n",
      "____________________________________________________________________________________________________\n",
      "Action_Hidden_Layer (Dense)      (None, 128)           512                                          \n",
      "____________________________________________________________________________________________________\n",
      "Hidden_Layer1 (Merge)            (None, 128)           0                                            \n",
      "____________________________________________________________________________________________________\n",
      "Hidden_Layer2 (Dense)            (None, 128)           16512                                        \n",
      "____________________________________________________________________________________________________\n",
      "Q_Value (Dense)                  (None, 3)             387                                          \n",
      "====================================================================================================\n",
      "Total params: 35,331\n",
      "Trainable params: 35,331\n",
      "Non-trainable params: 0\n",
      "____________________________________________________________________________________________________\n"
     ]
    }
   ],
   "source": [
    "# Build Actor-Critic Model\n",
    "from Finance.PolicyNetwork import ActorNetwork, CriticNetwork\n",
    "\n",
    "# Optimize GPU\n",
    "config = tf.ConfigProto()\n",
    "config.gpu_options.allow_growth = True\n",
    "sess = tf.Session(config=config)\n",
    "\n",
    "# Build Network\n",
    "actor = ActorNetwork(sess, an_config)\n",
    "critic = CriticNetwork(sess, cn_config)\n",
    "\n",
    "actor.describe()\n",
    "critic.describe()"
   ]
  },
  {
   "cell_type": "code",
   "execution_count": null,
   "metadata": {},
   "outputs": [],
   "source": []
  }
 ],
 "metadata": {
  "kernelspec": {
   "display_name": "Python 3",
   "language": "python",
   "name": "python3"
  },
  "language_info": {
   "codemirror_mode": {
    "name": "ipython",
    "version": 3
   },
   "file_extension": ".py",
   "mimetype": "text/x-python",
   "name": "python",
   "nbconvert_exporter": "python",
   "pygments_lexer": "ipython3",
   "version": "3.5.0"
  }
 },
 "nbformat": 4,
 "nbformat_minor": 2
}
